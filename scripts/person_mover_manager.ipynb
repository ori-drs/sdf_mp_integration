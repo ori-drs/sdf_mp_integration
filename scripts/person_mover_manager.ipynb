{
 "cells": [
  {
   "cell_type": "code",
   "execution_count": 1,
   "metadata": {},
   "outputs": [],
   "source": [
    "#!/usr/bin/env python\n",
    "import sys\n",
    "import rospy\n",
    "import numpy as np\n",
    "from geometry_msgs.msg import Pose, PoseStamped\n",
    "# , Point, Quaternion\n",
    "# from std_msgs.msg import String, Float32\n",
    "from sdf_mp_integration.msg import WholeBodyPose\n",
    "from std_msgs.msg import Int8 \n",
    "\n",
    "class ExperimentManager:\n",
    "    def __init__(self):\n",
    "        self.base_goal_pub = rospy.Publisher('move_base_simple/goal', PoseStamped, queue_size=1)\n",
    "        self.robot_goal_pub = rospy.Publisher('full_goal', WholeBodyPose, queue_size=1)\n",
    "        self.obstacle_pub = rospy.Publisher('obstacle_task', Int8, queue_size=1)\n",
    "\n",
    "        # [x, y, z], [ox, oy, oz, ow], [joints]\n",
    "        self.goals = {\n",
    "            0: [[0, 0, 0], [0.0, 0.0, 0.0, 1.0], [0, 0, -1.57, -1.57, 0]], \n",
    "        }\n",
    "        \n",
    "        self.base_goals = {\n",
    "            0: [[5, -3, 0], [0.0, 0.0, 0.0, 1.0]], # Original diag path\n",
    "            1: [[5, 0, 0], [0.0, 0.0, 0.0, 1.0]] # Straight in front\n",
    "           \n",
    "\n",
    "        }   \n",
    "        \n",
    "    def go_to_start(self):\n",
    "        self.robot_goal_pub.publish(self.create_robot_goal(0))\n",
    "\n",
    "    def hide_obstacles(self):\n",
    "        obs_msg = Int8()\n",
    "        obs_msg.data = 0\n",
    "        self.obstacle_pub.publish(obs_msg)\n",
    "        \n",
    "    def create_base_goal(self, goal_id):\n",
    "        goal = self.base_goals[goal_id]\n",
    "        \n",
    "        goal_msg = PoseStamped()\n",
    "        \n",
    "        goal_msg.header.stamp = rospy.Time.now()\n",
    "        goal_msg.header.frame_id = \"odom\"\n",
    "\n",
    "        goal_msg.pose.position.x = goal[0][0]\n",
    "        goal_msg.pose.position.y = goal[0][1]\n",
    "        goal_msg.pose.position.z = goal[0][2]\n",
    "        goal_msg.pose.orientation.x = goal[1][0]\n",
    "        goal_msg.pose.orientation.y = goal[1][1]\n",
    "        goal_msg.pose.orientation.z = goal[1][2]\n",
    "        goal_msg.pose.orientation.w = goal[1][3]\n",
    "        \n",
    "        return goal_msg\n",
    "    \n",
    "    def create_robot_goal(self, goal_id):\n",
    "        goal = self.goals[goal_id]\n",
    "        \n",
    "        goal_msg = WholeBodyPose()\n",
    "        \n",
    "        \n",
    "        \n",
    "        goal_msg.base.header.stamp = rospy.Time.now()\n",
    "        goal_msg.base.header.frame_id = \"odom\"\n",
    "\n",
    "        goal_msg.base.pose.position.x = goal[0][0]\n",
    "        goal_msg.base.pose.position.y = goal[0][1]\n",
    "        goal_msg.base.pose.position.z = goal[0][2]\n",
    "        goal_msg.base.pose.orientation.x = goal[1][0]\n",
    "        goal_msg.base.pose.orientation.y = goal[1][1]\n",
    "        goal_msg.base.pose.orientation.z = goal[1][2]\n",
    "        goal_msg.base.pose.orientation.w = goal[1][3]\n",
    "        goal_msg.arm = goal[2] \n",
    "        \n",
    "        return goal_msg\n",
    "        \n",
    "    def start_dynamic_experiment(self, goal_id, obstacle_id):\n",
    "        goal_msg = self.create_base_goal(goal_id)\n",
    "    \n",
    "        obs_msg = Int8()\n",
    "        obs_msg.data = obstacle_id\n",
    "        \n",
    "        self.base_goal_pub.publish(goal_msg)        \n",
    "        self.obstacle_pub.publish(obs_msg)\n",
    "\n",
    "    def start_dynamic_experiment_only_obstacle(self, obstacle_id):    \n",
    "        obs_msg = Int8()\n",
    "        obs_msg.data = obstacle_id\n",
    "        \n",
    "        self.obstacle_pub.publish(obs_msg)\n",
    "        \n",
    "    def start_base_experiment(self, goal_id, obstacle_id):\n",
    "        goal_msg = self.create_base_goal(goal_id)\n",
    "    \n",
    "        obs_msg = Int8()\n",
    "        obs_msg.data = obstacle_id\n",
    "        \n",
    "        self.robot_goal_pub.publish(goal_msg)        \n",
    "        self.obstacle_pub.publish(obs_msg)\n",
    "        \n",
    "    def start_base_experiment_no_obstacle(self, goal_id):\n",
    "        goal_msg = self.create_base_goal(goal_id)\n",
    "        self.base_goal_pub.publish(goal_msg)     \n",
    "        \n",
    "    def start_experiment_no_obstacle(self, goal_id):\n",
    "        goal_msg = self.create_base_goal(goal_id)\n",
    "        self.base_goal_pub.publish(goal_msg)        "
   ]
  },
  {
   "cell_type": "code",
   "execution_count": 2,
   "metadata": {},
   "outputs": [],
   "source": [
    "rospy.init_node('person_manager_node')\n",
    "experiment_manager = ExperimentManager()"
   ]
  },
  {
   "cell_type": "code",
   "execution_count": 3,
   "metadata": {},
   "outputs": [],
   "source": [
    "# Straight at robot\n",
    "# experiment_manager.start_dynamic_experiment(1, 0) \n",
    "experiment_manager.start_dynamic_experiment(1, 2) \n",
    "# experiment_manager.start_dynamic_experiment_only_obstacle(0) # \n",
    "# experiment_manager.start_dynamic_experiment_only_obstacle(2) "
   ]
  },
  {
   "cell_type": "code",
   "execution_count": null,
   "metadata": {},
   "outputs": [],
   "source": [
    "# The diag one similar to IROS \n",
    "experiment_manager.start_dynamic_experiment(0, 1) \n",
    "# experiment_manager.start_dynamic_experiment_only_obstacle(1) "
   ]
  },
  {
   "cell_type": "code",
   "execution_count": null,
   "metadata": {},
   "outputs": [],
   "source": [
    "experiment_manager.start_dynamic_experiment(5, 2)"
   ]
  },
  {
   "cell_type": "code",
   "execution_count": null,
   "metadata": {},
   "outputs": [],
   "source": [
    "experiment_manager.start_experiment_no_obstacle(1)"
   ]
  },
  {
   "cell_type": "code",
   "execution_count": null,
   "metadata": {},
   "outputs": [],
   "source": [
    "experiment_manager.go_to_start()"
   ]
  },
  {
   "cell_type": "code",
   "execution_count": null,
   "metadata": {},
   "outputs": [],
   "source": [
    "experiment_manager.hide_obstacles()"
   ]
  },
  {
   "cell_type": "code",
   "execution_count": null,
   "metadata": {},
   "outputs": [],
   "source": []
  }
 ],
 "metadata": {
  "kernelspec": {
   "display_name": "Python 2",
   "language": "python",
   "name": "python2"
  },
  "language_info": {
   "codemirror_mode": {
    "name": "ipython",
    "version": 2
   },
   "file_extension": ".py",
   "mimetype": "text/x-python",
   "name": "python",
   "nbconvert_exporter": "python",
   "pygments_lexer": "ipython2",
   "version": "2.7.17"
  }
 },
 "nbformat": 4,
 "nbformat_minor": 2
}
