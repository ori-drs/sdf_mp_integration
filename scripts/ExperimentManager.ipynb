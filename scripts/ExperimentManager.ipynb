{
 "cells": [
  {
   "cell_type": "code",
   "execution_count": 1,
   "metadata": {},
   "outputs": [],
   "source": [
    "#!/usr/bin/env python\n",
    "import sys\n",
    "import rospy\n",
    "import numpy as np\n",
    "from geometry_msgs.msg import Pose\n",
    "# , Point, Quaternion\n",
    "# from std_msgs.msg import String, Float32\n",
    "from sdf_mp_integration.msg import WholeBodyPose\n",
    "from std_msgs.msg import Int8 \n",
    "\n",
    "class ExperimentManager:\n",
    "    def __init__(self):\n",
    "        self.robot_goal_pub = rospy.Publisher('full_goal', WholeBodyPose, queue_size=1)\n",
    "        self.obstacle_pub = rospy.Publisher('obstacle_task', Int8, queue_size=1)\n",
    "\n",
    "        # [x, y, z], [ox, oy, oz, ow], [joints]\n",
    "        self.goals = {\n",
    "            0: [[0, 0, 0], [0.0, 0.0, 0.0, 1.0], [0, 0, 1.57, 1.57, 0]], \n",
    "            1: [[3.8, 0.65, 0], [0.0, 0.0, 0.0, 1.0], [0.2, 1.2, 0.0, 0.4, 0.0]], # Grasp in far cabinet \n",
    "            2: [[1.0, 0.0, 0], [0.0, 0.0, 0.0, 1.0], [0.2, 1.2, 0.0, 0.4, 0.0]], # Grasp in midde cabinet \n",
    "            3: [[1.7, 0.0, 0], [0.0, 0.0, 0.0, 1.0], [0.0, 1.57, 0.0, 1.57, 0.0]]  # Pickup off floor\n",
    "        }\n",
    "        \n",
    "    def go_to_start(self):\n",
    "        self.robot_goal_pub.publish(self.create_robot_goal(0))\n",
    "\n",
    "    def hide_obstacles(self):\n",
    "        obs_msg = Int8()\n",
    "        obs_msg.data = 0\n",
    "        self.obstacle_pub.publish(obs_msg)\n",
    "        \n",
    "    def create_robot_goal(self, goal_id):\n",
    "        goal = self.goals[goal_id]\n",
    "        \n",
    "        goal_msg = WholeBodyPose()\n",
    "        \n",
    "        goal_msg.base.header.stamp = rospy.Time.now()\n",
    "        goal_msg.base.header.frame_id = \"odom\"\n",
    "\n",
    "        goal_msg.base.pose.position.x = goal[0][0]\n",
    "        goal_msg.base.pose.position.y = goal[0][1]\n",
    "        goal_msg.base.pose.position.z = goal[0][2]\n",
    "        goal_msg.base.pose.orientation.x = goal[1][0]\n",
    "        goal_msg.base.pose.orientation.y = goal[1][1]\n",
    "        goal_msg.base.pose.orientation.z = goal[1][2]\n",
    "        goal_msg.base.pose.orientation.w = goal[1][3]\n",
    "        goal_msg.arm = goal[2] \n",
    "        \n",
    "        return goal_msg\n",
    "        \n",
    "    def start_experiment(self, goal_id, obstacle_id):\n",
    "        goal_msg = self.create_robot_goal(goal_id)\n",
    "    \n",
    "        obs_msg = Int8()\n",
    "        obs_msg.data = obstacle_id\n",
    "        \n",
    "        self.robot_goal_pub.publish(goal_msg)        \n",
    "        self.obstacle_pub.publish(obs_msg)\n",
    "\n",
    "    def start_experiment_no_obstacle(self, goal_id):\n",
    "        goal_msg = self.create_robot_goal(goal_id)\n",
    "        self.robot_goal_pub.publish(goal_msg)        "
   ]
  },
  {
   "cell_type": "code",
   "execution_count": 2,
   "metadata": {
    "scrolled": true
   },
   "outputs": [],
   "source": [
    "rospy.init_node('experiment_manager_node')\n",
    "experiment_manager = ExperimentManager()"
   ]
  },
  {
   "cell_type": "code",
   "execution_count": null,
   "metadata": {
    "scrolled": true
   },
   "outputs": [],
   "source": [
    "experiment_manager.start_experiment_no_obstacle(1)"
   ]
  },
  {
   "cell_type": "code",
   "execution_count": null,
   "metadata": {},
   "outputs": [],
   "source": [
    "experiment_manager.start_experiment(1, 9)"
   ]
  },
  {
   "cell_type": "code",
   "execution_count": null,
   "metadata": {},
   "outputs": [],
   "source": [
    "experiment_manager.start_experiment(2, 10)"
   ]
  },
  {
   "cell_type": "code",
   "execution_count": null,
   "metadata": {},
   "outputs": [],
   "source": [
    "experiment_manager.start_experiment_no_obstacle(2)"
   ]
  },
  {
   "cell_type": "code",
   "execution_count": null,
   "metadata": {},
   "outputs": [],
   "source": [
    "experiment_manager.start_experiment(2, 11)"
   ]
  },
  {
   "cell_type": "code",
   "execution_count": 3,
   "metadata": {},
   "outputs": [],
   "source": [
    "experiment_manager.start_experiment(3, 9)"
   ]
  },
  {
   "cell_type": "code",
   "execution_count": null,
   "metadata": {},
   "outputs": [],
   "source": [
    "experiment_manager.go_to_start()"
   ]
  },
  {
   "cell_type": "code",
   "execution_count": null,
   "metadata": {},
   "outputs": [],
   "source": [
    "obs_msg = Int8()\n",
    "obs_msg.data = 9\n",
    "experiment_manager.obstacle_pub.publish(obs_msg)\n"
   ]
  },
  {
   "cell_type": "code",
   "execution_count": null,
   "metadata": {},
   "outputs": [],
   "source": []
  }
 ],
 "metadata": {
  "kernelspec": {
   "display_name": "Python 2",
   "language": "python",
   "name": "python2"
  },
  "language_info": {
   "codemirror_mode": {
    "name": "ipython",
    "version": 2
   },
   "file_extension": ".py",
   "mimetype": "text/x-python",
   "name": "python",
   "nbconvert_exporter": "python",
   "pygments_lexer": "ipython2",
   "version": "2.7.17"
  }
 },
 "nbformat": 4,
 "nbformat_minor": 2
}
