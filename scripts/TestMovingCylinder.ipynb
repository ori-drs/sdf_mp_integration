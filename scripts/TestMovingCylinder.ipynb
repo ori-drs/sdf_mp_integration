{
 "cells": [
  {
   "cell_type": "code",
   "execution_count": null,
   "metadata": {},
   "outputs": [],
   "source": [
    "#!/usr/bin/env python\n",
    "import sys\n",
    "import rospy\n",
    "import numpy as np\n",
    "from geometry_msgs.msg import Pose, Point, Quaternion\n",
    "from std_msgs.msg import String, Float32\n",
    "\n",
    "from sdf_mp_integration.env_manager import EnvManager\n",
    "\n",
    "\n",
    "ind_waypoints_dict = {1: [np.array([  [1.0, 0.0, 0.0, 0.0], \n",
    "                                    [1.0, 1.0, 0.0, 3.0], \n",
    "                                    [2.0, 1.0, 0.0, 7.0]], dtype=float)],\n",
    "                     2: [np.array([  [3.5, 1.0, 0.0, 0.0], \n",
    "                                    [0.0, -1.0, 0.0, 15.0]], dtype=float)],\n",
    "                     3: [np.array([  [2.5, 0.0, 0.0, 0.0], \n",
    "                                    [1.0, 0.0, 0.0, 10.0]], dtype=float)],\n",
    "                    4: [np.array([  [2.5, 1.0, 0.0, 0.0], \n",
    "                                    [1.5, 0, 0.0, 10.0]], dtype=float), \n",
    "                       np.array([  [4.5, -1.0, 0.0, 0.0], \n",
    "                                    [2.0, -1.2, 0.0, 10.0]], dtype=float)]}\n",
    "\n",
    "    \n",
    "class DynamicObstacleManager:\n",
    "    def __init__(self, ind_waypoints_dict):\n",
    "        self.freq = 20\n",
    "        self.rate = rospy.Rate(self.freq)\n",
    "        self.ori = [0,0,0,0]\n",
    "\n",
    "        # Instantiate the environment manager\n",
    "        self.environment_manager = EnvManager()\n",
    "        \n",
    "        # Precalcuate all of our trajectories, ready for execution\n",
    "        self.exps = {}\n",
    "        for key, value in ind_waypoints_dict.items():\n",
    "            trajectories = []\n",
    "            for i in range(len(value)):\n",
    "                trajectories.append(self.calculate_trajectory(value[i]))\n",
    "            self.exps[key] = trajectories\n",
    "#         print self.exps\n",
    "        rospy.Subscriber(\"start_moving_obstacle\", Float32, self.callback)\n",
    "        rospy.loginfo(\"DynamicObstacleManager ready.\")\n",
    "\n",
    "\n",
    "    def calculate_trajectory(self, waypoints):\n",
    "        trajectory = []\n",
    "        pos = waypoints[0, 0:3]\n",
    "        \n",
    "        for i in range(len(waypoints) - 1):\n",
    "            delta_t = waypoints[i + 1, 3] - waypoints[i, 3]\n",
    "            num_steps  = int(delta_t * self.freq)\n",
    "            delta_x = (waypoints[i + 1, 0:3] - waypoints[i, 0:3])/num_steps\n",
    "            for j in range(num_steps):\n",
    "                pos = pos + delta_x\n",
    "                trajectory.append(pos)\n",
    "                \n",
    "#         print np.array(trajectory)\n",
    "        return np.array(trajectory)\n",
    "\n",
    "    def move_to_init(self, exp_id):\n",
    "        trajectories = self.exps[exp_id]\n",
    "        self.environment_manager.move_object('cylinder', trajectories[0][0, :], self.ori)\n",
    "        if(len(trajectories) > 1):\n",
    "            self.environment_manager.move_object('cylinder2', trajectories[1][0, :], self.ori)\n",
    "        \n",
    "    def execute_trajectories(self, trajectories):\n",
    "        num_traj_points = trajectories[0].shape[0]\n",
    "        for i in range(num_traj_points):\n",
    "            self.environment_manager.move_object('cylinder', trajectories[0][i, :], self.ori)\n",
    "            if(len(trajectories) > 1):\n",
    "                self.environment_manager.move_object('cylinder2', trajectories[1][i, :], self.ori)\n",
    "            self.rate.sleep()\n",
    "\n",
    "    def execute_trajectory_id(self, exp_id):\n",
    "        self.execute_trajectories(self.exps[exp_id])\n",
    "        \n",
    "    def callback(self, data):    \n",
    "        # pick and place params\n",
    "        start_pos = np.array([0.4,2.0,0])\n",
    "        ori = [0,0,0,0]\n",
    "        velocity = [0, -data.data, 0]\n",
    "\n",
    "        self.rate.sleep()\n",
    "\n",
    "        for i in range(duration*self.freq):\n",
    "            print('moving')\n",
    "            fin_pos = start_pos + (i+1)*np.array(velocity)/self.freq\n",
    "            self.environment_manager.move_object('cylinder', fin_pos, ori)\n",
    "            self.rate.sleep()\n",
    "        \n",
    "        rospy.sleep(1)\n",
    "        self.environment_manager.move_object('cylinder', start_pos, ori)\n"
   ]
  },
  {
   "cell_type": "code",
   "execution_count": null,
   "metadata": {},
   "outputs": [],
   "source": [
    "rospy.init_node('moving_obstacle_node', anonymous=True)\n",
    "obstacle_manager = DynamicObstacleManager(ind_waypoints_dict)\n"
   ]
  },
  {
   "cell_type": "code",
   "execution_count": null,
   "metadata": {},
   "outputs": [],
   "source": [
    "exp_id = 4"
   ]
  },
  {
   "cell_type": "code",
   "execution_count": null,
   "metadata": {},
   "outputs": [],
   "source": [
    "obstacle_manager.move_to_init(exp_id)"
   ]
  },
  {
   "cell_type": "code",
   "execution_count": null,
   "metadata": {},
   "outputs": [],
   "source": [
    "obstacle_manager.execute_trajectory_id(exp_id)"
   ]
  },
  {
   "cell_type": "code",
   "execution_count": null,
   "metadata": {},
   "outputs": [],
   "source": []
  },
  {
   "cell_type": "code",
   "execution_count": null,
   "metadata": {},
   "outputs": [],
   "source": []
  }
 ],
 "metadata": {
  "kernelspec": {
   "display_name": "Python 2",
   "language": "python",
   "name": "python2"
  },
  "language_info": {
   "codemirror_mode": {
    "name": "ipython",
    "version": 2
   },
   "file_extension": ".py",
   "mimetype": "text/x-python",
   "name": "python",
   "nbconvert_exporter": "python",
   "pygments_lexer": "ipython2",
   "version": "2.7.17"
  }
 },
 "nbformat": 4,
 "nbformat_minor": 2
}
